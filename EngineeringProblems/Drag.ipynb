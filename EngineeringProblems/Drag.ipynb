{
 "cells": [
  {
   "cell_type": "markdown",
   "metadata": {},
   "source": [
    "# 2 Dimensional Path of a Projectile Simulation\n",
    "\n",
    "The path of a projectile is an interesting, important, and sometimes challenging problem. It’s very likely\n",
    "that you will have studied the path of a projectile in the absence of atmospheric drag in basic mechanics,\n",
    "since this can be derived analytically. In the real world, however, drag can significantly alter the\n",
    "trajectory. Unfortunately, in introducing this effect, we lose the ability to analytically obtain solutions\n",
    "for the projectile’s trajectory: simulating the trajectory is therefore required. In this assignment, you\n",
    "will write a Python program that computes trajectories under the influence of drag, and use this to\n",
    "solve a simple targeting problem.\n",
    "\n",
    "## Theory\n",
    "\n",
    "We will neglect any crosswind effects, so that the projectile travels in a two-dimensional plane with\n",
    "coordinates (x, y). The projectile’s position, velocity and acceleration can therefore be represented\n",
    "as vector functions of time, which we denote by r(t) = [rx(t), ry(t)], v(t) = [vx(t), vy(t)] and a(t)\n",
    "respectively. As the projectile travels through space, we will assume that it experiences two forces:\n",
    "acceleration due to gravity, and a drag force Fd acting in the direction opposite to its trajectory. A free\n",
    "body diagram of this scenario can be found in figure 1. The drag force can be roughly approximated\n",
    "by the drag coefficient cd through the relationship\n",
    "\n",
    "$$ Fd = 1/2 ρcdA|v|v,$$\n",
    "\n",
    "which also involves the velocity v, air density ρ and the frontal area A (i.e. the two-dimensional cross-\n",
    "section exposed to the drag force). cd is dimensionless and is used to quantify the drag of an object in\n",
    "\n",
    "a fluid: the lower the value, the lower the drag force.\n",
    "To simulate the trajectory of the projectile, we can use Newton’s second law:\n",
    "\n",
    "$$F = ma ⇒ a(t) = 1/m(−1/2 ρcdA|v|v − mg)$$\n",
    "\n",
    "where m is the mass of the projectile and g = (0, g) is acceleration due to gravity with g = 9.81 ms−2\n",
    ".\n",
    "\n",
    "Since we are interested in the projectile’s trajectory r, we can then utilise the fact that\n",
    "\n",
    "$$a(t) = dv/dt = v ̇(t) and v(t) = dr/dt $$= r ̇(t)\n",
    "\n",
    "to give us a ordinary differential equation:\n",
    "\n",
    "$$r ̈(t) = 1m − 1/2 ρcdA|r ̇|r ̇ − mg$$\n",
    "\n",
    "Notice that this is a non-linear equation that cannot be solved analytically – we therefore need a\n",
    "computer to simulate it. It is also second-order: that is, it depends on the second derivative of r.\n",
    "All that is left to do is equip the above with an appropriate set of initial conditions at time t = 0: we\n",
    "will imagine that the projectile is fired from an initial starting height h at an angle of α degrees and\n",
    "initial speed (velocity magnitude) v0, which gives:\n",
    "\n",
    "$$ r(0) = (0, h) and r ̇(0) = v(0) = [v0 cos(πα/180), v0 sin(πα/180)] $$\n"
   ]
  },
  {
   "cell_type": "code",
   "execution_count": 12,
   "metadata": {},
   "outputs": [],
   "source": [
    "import numpy as np\n",
    "import matplotlib.pyplot as plt\n",
    "from scipy.integrate import odeint\n",
    "import math\n",
    "import doctest\n",
    "from scipy.optimize import minimize , differential_evolution"
   ]
  },
  {
   "cell_type": "markdown",
   "metadata": {},
   "source": [
    "# Drag ODE Solver\n",
    "\n",
    "Takes inputs of x and y velocity and x and y position [vx , vy , rx , ry]\n",
    "    Returns [ax , ay , vx , vy]\n",
    "    Outputs are the derivatives of the input values\n",
    "\n",
    "    r = position\n",
    "    v = velocity\n",
    "    a = acceleration\n",
    "\n",
    "    >>> drag_ode([1 , 1 , 1 , 1] , 1)\n",
    "    [-0.000592493780917699, -9.810592493780918, 1, 1]"
   ]
  },
  {
   "cell_type": "code",
   "execution_count": 13,
   "metadata": {},
   "outputs": [],
   "source": [
    "def drag_ode(y , t):\n",
    "    \n",
    "    #Defining constant parameters for projectile\n",
    "    \n",
    "    r=0.05                                      #Radius\n",
    "    rho=1.225                                   #Density\n",
    "    cd=0.479                                    #Drag Coef\n",
    "    m=5.5                                       #Mass\n",
    "    g=9.81                                      #Gravitational Constant\n",
    "    A=math.pi*(r**2)                            #Surface Area\n",
    "    magy = math.sqrt(y[0]**2 + y[1]**2)         #Velocity Magnitude    \n",
    "    \n",
    "    return([\n",
    "    (-0.5 * rho * cd * A * magy * y[0])/m,\n",
    "    (-0.5 * rho * cd * A * magy * y[1] - m*g)/m,\n",
    "    y[0],\n",
    "    y[1]\n",
    "    ])"
   ]
  },
  {
   "cell_type": "markdown",
   "metadata": {},
   "source": [
    "# Euler Solver \n",
    "\n",
    "Resolves drag_ode for these inputted initial conditions using an itterative Euler aproach\n",
    "    Takes inputs of initial conditions initial velocity, angle, height and timestep\n",
    "    Output in the form of an array with [t , vx , vy , rx , ry] at each timestep\n",
    "\n",
    "    r = position\n",
    "    v = velocity"
   ]
  },
  {
   "cell_type": "code",
   "execution_count": 14,
   "metadata": {},
   "outputs": [],
   "source": [
    "def solve_ode_euler(v0 , a , h , tstep , max_t = 1000.0):\n",
    "    if v0<100 or v0>800 or a<10 or a>80 or h<0 or tstep<0:\n",
    "        raise ValueError ('Invalid input for solve_ode_euler')\n",
    "    \n",
    "    #Initializing at t=0\n",
    "    y = [v0*math.cos(math.radians(a)) , v0*math.sin(math.radians(a)) , 0 , h]\n",
    "    t = 0\n",
    "    results = np.array([t] + y)\n",
    "    \n",
    "    #Itterating through number of timesteps\n",
    "    for i in range(int(max_t/tstep)):\n",
    "        ydot = drag_ode(y , t)\n",
    "        y,t = y + np.array(ydot)*tstep , t + tstep          #Euler aproximation of next time step\n",
    "\n",
    "        result = np.insert(y , 0 , t)\n",
    "        results = np.vstack([results , result])\n",
    "\n",
    "        if y[3] < 0:                                        #Break out of loop once negative ry value is reached\n",
    "            break\n",
    "\n",
    "    return(results)"
   ]
  },
  {
   "cell_type": "markdown",
   "metadata": {},
   "source": [
    "# SciPy ODE Solver\n",
    "\n",
    "Uses odeint function from scipy to generate solution to drag_ode\n",
    "    Takes inputs of initial conditions initial velocity, angle, height and timestep\n",
    "    Output in the form of an array with [t , vx , vy , rx , ry] at each timestep\n",
    "\n",
    "    r = position\n",
    "    v = velocity"
   ]
  },
  {
   "cell_type": "code",
   "execution_count": 15,
   "metadata": {},
   "outputs": [],
   "source": [
    "def solve_ode_scipy(v0 , a , h , tstep , max_t = 1000):\n",
    "    \n",
    "    if v0<100 or v0>800 or a<10 or a>80 or h<0 or tstep<0:\n",
    "        raise ValueError ('Invalid input for solve_ode_scipy')\n",
    "\n",
    "\n",
    "\n",
    "    #Initializing time and initial conditions\n",
    "    t=np.array_split(np.linspace(0 , max_t , int(max_t/tstep)), 50)\n",
    "    vx=v0*math.cos(math.radians(a))\n",
    "    vy=v0*math.sin(math.radians(a))\n",
    "    rx=0\n",
    "    ry=h\n",
    "    results=np.empty((0,5),int)\n",
    "\n",
    "    for row in t:                                           #Itterate over timestep sub arrays\n",
    "        y=odeint(drag_ode , [vx , vy , rx , ry] , row)      #Solve for timesteps using odeint\n",
    "        vx,vy,rx,ry = y[-1,0],y[-1,1],y[-1,2],y[-1,3]\n",
    "\n",
    "        results = np.append(results , np.append(np.array_split(row,len(row)),y,axis=1)[0:-1] , axis=0)\n",
    "\n",
    "        if ry < 0:      #Break loop when particle position becomes negative\n",
    "            break\n",
    "\n",
    "    results = results[results[:,4]>=0,:]    #Remove rows from results containing negative ry values\n",
    "\n",
    "    return(results)"
   ]
  },
  {
   "cell_type": "markdown",
   "metadata": {},
   "source": [
    "# Calling Functions To Compare With/Without Effects of Drag\n"
   ]
  },
  {
   "cell_type": "code",
   "execution_count": 16,
   "metadata": {},
   "outputs": [
    {
     "name": "stdout",
     "output_type": "stream",
     "text": [
      "Enter v0: 300\n",
      "Enter angle of attack [deg]: 45\n",
      "Enter an initial height: 50\n",
      "travel time:  29.39420560528959\n",
      "distance travelled:  2786.7808795710266\n",
      "maximum height:  1104.3853106981967\n"
     ]
    },
    {
     "data": {
      "image/png": "[encoded data removed]",
      "text/plain": [
       "<Figure size 432x288 with 1 Axes>"
      ]
     },
     "metadata": {
      "needs_background": "light"
     },
     "output_type": "display_data"
    }
   ],
   "source": [
    "if __name__ == '__main__' :\n",
    "\n",
    "    doctest.testmod()\n",
    "\n",
    "    while True:\n",
    "        try:\n",
    "            #Taking user inputs\n",
    "            v0 = float(input('Enter v0: '))\n",
    "            a = float(input('Enter angle of attack [deg]: '))\n",
    "            h = float(input('Enter an initial height: '))\n",
    "\n",
    "            #Calculating travel time without drag to calculate appropriate timestep\n",
    "            d = (v0*math.cos(math.radians(a))/9.81)*(v0*math.sin(math.radians(a)) + math.sqrt((v0*math.sin(math.radians(a)))**(2)+(2*9.81*h)))\n",
    "            time = d/(v0*math.cos(math.radians(a)))\n",
    "            tstep = time/1000        #Generate timestep based of travel time without drag\n",
    "\n",
    "            #Resolving trajectory with drag using Euler\n",
    "            res = solve_ode_euler(v0 , a , h , tstep)\n",
    "\n",
    "            #Defining coordinates to be plotted\n",
    "            x = res[:,3]\n",
    "            y = res[:,4]\n",
    "\n",
    "            #X and Y coordinates to be interpolated\n",
    "            y1 = res[-2,4]\n",
    "            y2 = res[-1,4]\n",
    "            x1 = res[-2,3]\n",
    "            x2 = res[-1,3]\n",
    "\n",
    "            dist = x1 + (((x2-x1)/(y1-y2))*y1) #Interpolate to find x coordinate at y = 0\n",
    "\n",
    "            print('travel time: ' , res[-1,0])\n",
    "            print('distance travelled: ' , dist)\n",
    "            print('maximum height: ' , max(res[:,4]))\n",
    "\n",
    "            #Plot trajectory with drag\n",
    "            plt.plot(x , y , label='with drag')\n",
    "\n",
    "            #Array of x and y positions without drag\n",
    "            xpos = np.linspace(0 , d , 100)\n",
    "            ypos = h + xpos*math.tan(math.radians(a)) - (9.81*xpos**2)/(2*(v0*math.cos(math.radians(a)))**2)\n",
    "\n",
    "            #Plot trajectory without drag\n",
    "            plt.plot(xpos , ypos , label='without drag')\n",
    "            plt.legend(loc=1 , prop={'size':7})\n",
    "            plt.title('Tragectory with and without drag')\n",
    "            plt.xlabel('Distance' + r'($m$)')\n",
    "            plt.ylabel('Height' + r'($m$)')\n",
    "            plt.xlim(0 , d*1.05)\n",
    "            plt.ylim(0 , max(ypos)*1.05)\n",
    "            plt.savefig('drag.pdf')\n",
    "            plt.show()\n",
    "            break\n",
    "\n",
    "        except ValueError:\n",
    "            print('Sorry please enter a valid set of values \\nPlease enter velocities between 100 and 800 m/s and angles between 10 and 80 degrees')\n"
   ]
  },
  {
   "cell_type": "markdown",
   "metadata": {},
   "source": [
    "# Part 2 - Projectile Targeting Optimization\n",
    "\n",
    "In your second file, target.py, you should use the scipy.optimize package to build a simple targeting\n",
    "system. The idea here is that you are given the position (tx, ty) of a target which is downrange from\n",
    "your projectile."
   ]
  },
  {
   "cell_type": "markdown",
   "metadata": {},
   "source": [
    "# Objective Function\n",
    "\n",
    "Takes input of initial conditions [velocity , angle] and target position [x,y]\n",
    "    Returns minimum distance to the target of the projectile trajectory as a floating point value\n",
    "\n",
    "    >>> objective((100 , 10), (1000 , 100))\n",
    "    691.0337145915864"
   ]
  },
  {
   "cell_type": "code",
   "execution_count": 17,
   "metadata": {},
   "outputs": [],
   "source": [
    "def objective(initials , target):\n",
    "    if initials[0]<100 or initials[0]>800 or initials[1]<10 or initials[1]>80 or target[0]<0 or target[1]<0:\n",
    "        raise ValueError ('Invalid inputs for objective')\n",
    "\n",
    "    #Generating apropriate time step\n",
    "    d = (initials[0]*math.cos(math.radians(initials[1]))/9.81)*(initials[0]*math.sin(math.radians(initials[1])) + math.sqrt((initials[0]*math.sin(math.radians(initials[1])))**(2)+(2*9.81*0)))\n",
    "    time = d/(initials[0]*math.cos(math.radians(initials[1])))\n",
    "    tstep = time/100\n",
    "\n",
    "    #Generate array of solutions with scipy odeint\n",
    "    sol = solve_ode_scipy(initials[0] , initials[1] , 0 , tstep)\n",
    "\n",
    "    #Calculating distance from target at each timestep\n",
    "    dis = [math.sqrt(((target[0]-row[3])**2) + ((target[1]-row[4])**2)) for row in sol]\n",
    "\n",
    "    #minimum distance from target\n",
    "    return min(dis)"
   ]
  },
  {
   "cell_type": "markdown",
   "metadata": {},
   "source": [
    "# Objective Image Function\n",
    "\n",
    "Takes inputs for target position [x,y] and number of pixels in the x and y direction [pix,pix]\n",
    "Produces a surface plot of distance from the target for initial velocities and angles of 10-80 degrees and 100-800m/s\n",
    "\n",
    "Image is saved as 'objective.pdf'"
   ]
  },
  {
   "cell_type": "code",
   "execution_count": 18,
   "metadata": {},
   "outputs": [],
   "source": [
    "def objective_image(target , pix):\n",
    "    if pix[0]<0 or pix[1]<0 or target[0]<0 or target[1]<0:\n",
    "        raise ValueError ('Invalid inputs for objective_image')\n",
    "\n",
    "    #Define velocity and angle values for each pixel\n",
    "    vel = np.linspace(100,800,pix[0])\n",
    "    ang = np.linspace(10,80,pix[1])\n",
    "\n",
    "    #Itterate through all angles and velocity to generate array of minimum distance values\n",
    "    data = np.array([[objective((a,b) , (target[0],target[1])) for a in vel] for b in ang])\n",
    "\n",
    "    #Generate and save image\n",
    "    plt.imshow(data , origin='lower' , extent=[100,800,10,80] , aspect='auto')\n",
    "    plt.colorbar()\n",
    "    plt.xlabel('Velocity' + r'($ms^-{1}$)')\n",
    "    plt.ylabel('Angle' + r'($deg$)')\n",
    "    plt.savefig('objective.pdf')\n",
    "    plt.show()\n",
    "    plt.clf()"
   ]
  },
  {
   "cell_type": "markdown",
   "metadata": {},
   "source": [
    "# Targeting Optimization Function\n",
    "\n",
    "Takes input of target position [x,y]\n",
    "Function attempts to optimizes a set of initial conditions to hit the target position with the particle trajectory\n",
    "Returns a boolean coresponding to optimization success and then the initial conditions required and the distance from the target"
   ]
  },
  {
   "cell_type": "code",
   "execution_count": 19,
   "metadata": {},
   "outputs": [],
   "source": [
    "def target(target):\n",
    "        #Do not allow negative target positions\n",
    "    if target[0]<0 or target[1]<0:\n",
    "        raise ValueError ('Invalid input for target')\n",
    "\n",
    "    #Defining arguments and bounds for optimization\n",
    "    args = (target)\n",
    "    bv = (100,800)\n",
    "    ba = (10,80)\n",
    "    bnds = np.array([bv,ba])\n",
    "\n",
    "    #Target With known initial guess\n",
    "    if target == (2797 , 52):\n",
    "\n",
    "        x0 = np.array([757.26746397 , 66.55743422])                                                     #Define initial guess\n",
    "        res = minimize(objective , x0 , args=(args,) , bounds=bnds , tol = 1e-5 , method='SLSQP')       #Perform optimization\n",
    "        return(res['success'] , res['x'][0] , res['x'][1] , res['fun'])\n",
    "\n",
    "    #Target without known initial guess for\n",
    "    else:\n",
    "\n",
    "        #Calculate min distance from curve for an array of initial guesses\n",
    "        vel = np.linspace(100,800,20)\n",
    "        ang = np.linspace(10,80,20)\n",
    "        points = [(a,b) for a in vel for b in ang]\n",
    "        data = np.array([objective((a,b) , (args[0],args[1])) for a in vel for b in ang])\n",
    "\n",
    "        #Establish limits for initial guesses\n",
    "        distance = max(data)\n",
    "        upper = distance/8\n",
    "        lower = distance/15\n",
    "\n",
    "        #Position of initial guesses which satisfy limits\n",
    "        bool = np.logical_and(data < upper, data > lower)\n",
    "\n",
    "        guesses = np.where(bool == True)\n",
    "\n",
    "        #Loop through initial guesses using gradient based optimization\n",
    "        for i in guesses[0]:\n",
    "\n",
    "            x0 = points[i]                                                                  #Current guess\n",
    "            res = minimize(objective , x0 , args=(args,) , bounds=bnds , tol = 1e-3 )       #Attempt optimization\n",
    "\n",
    "            #Return a successful optimization\n",
    "            if res['fun'] < 1e-2:\n",
    "\n",
    "                return(res['success'] , res['x'][0] , res['x'][1] , res['fun'])\n",
    "\n",
    "            #Or switch to differential_evolution method\n",
    "            else:\n",
    "\n",
    "                #Attempt genetic optimization\n",
    "                res = differential_evolution(objective , bounds=bnds , args=(args,))\n",
    "\n",
    "                #Retrun results of optimization\n",
    "                if res['success'] and res['fun']<1e-6:\n",
    "                    return(res['success'] , res['x'][0] , res['x'][1] , res['fun'])\n",
    "                else:\n",
    "                    return(False , 0 , 0 , 0)"
   ]
  },
  {
   "cell_type": "markdown",
   "metadata": {},
   "source": [
    "# Calling Functions Optimizing Input Conditions To Target Coordinates"
   ]
  },
  {
   "cell_type": "code",
   "execution_count": 21,
   "metadata": {},
   "outputs": [
    {
     "name": "stdout",
     "output_type": "stream",
     "text": [
      "enter a downrange position: 400\n",
      "enter a height: 50\n",
      " WE HIT THE TARGET! \n",
      "Initial Speed      :118.48\n",
      "Initial Angle      :16.49\n",
      "Closest Distance   :0.000\n",
      "generate Objective Image? [y/n]   y\n"
     ]
    },
    {
     "data": {
      "image/png": "[encoded data removed]",
      "text/plain": [
       "<Figure size 432x288 with 2 Axes>"
      ]
     },
     "metadata": {
      "needs_background": "light"
     },
     "output_type": "display_data"
    },
    {
     "name": "stdout",
     "output_type": "stream",
     "text": [
      "Image saved to \"objective.pdf\"\n"
     ]
    },
    {
     "data": {
      "image/png": "[encoded data removed]",
      "text/plain": [
       "<Figure size 432x288 with 1 Axes>"
      ]
     },
     "metadata": {
      "needs_background": "light"
     },
     "output_type": "display_data"
    }
   ],
   "source": [
    "if __name__ == '__main__':\n",
    "\n",
    "    doctest.testmod()\n",
    "\n",
    "    while True:\n",
    "        try:\n",
    "            #Taking user inputs for target position\n",
    "            tx = float(input('enter a downrange position: '))\n",
    "            ty = float(input('enter a height: '))\n",
    "            targ = (tx , ty)\n",
    "\n",
    "            #Attempting optimization of initial projection conditions\n",
    "            res = target((targ))\n",
    "\n",
    "\n",
    "            if res[0]:          #Executing loop if optimization is successful\n",
    "                print(' WE HIT THE TARGET! \\nInitial Speed      :{:.2f}\\nInitial Angle      :{:.2f}\\nClosest Distance   :{:.3f}' .format(res[1] , res[2] , res[3]))\n",
    "\n",
    "                #Generate objective image if user specifies\n",
    "                y_n = 'nothing'\n",
    "                while y_n != 'y':\n",
    "                    y_n = input('generate Objective Image? [y/n]   ')\n",
    "                    if y_n =='y':\n",
    "                        objective_image(targ , (40,40))\n",
    "                        print('Image saved to \"objective.pdf\"')\n",
    "                        break\n",
    "                    if y_n == 'n' or y_n =='':\n",
    "                        break\n",
    "\n",
    "                #Generate trajectory from optimized initial conditions and plot\n",
    "                xy = solve_ode_scipy(res[1] , res[2] , 0 , 0.01)\n",
    "                x = xy[:,3]\n",
    "                y = xy[:,4]\n",
    "                plt.plot(x , y , label='Trajectory')\n",
    "\n",
    "                #Plot target position\n",
    "                plt.plot(tx , ty , 'r*' , markersize=12 , label='Target')\n",
    "\n",
    "                plt.xlim(0 , max(x)*1.05)\n",
    "                plt.ylim(0 , max(y)*1.05)\n",
    "                plt.legend(loc=1 , prop={'size':7})\n",
    "                plt.xlabel('Distance' + r'($m$)')\n",
    "                plt.ylabel('Height' + r'($m$)')\n",
    "                plt.savefig('target.pdf')\n",
    "                plt.show()\n",
    "\n",
    "            else:\n",
    "                print('Sorry your aim sucks! Target missed.')\n",
    "            break\n",
    "\n",
    "        except ValueError:\n",
    "            print('Invalid target position entered. \\nTarget coordinates must be positive numerical values.')\n"
   ]
  },
  {
   "cell_type": "code",
   "execution_count": null,
   "metadata": {},
   "outputs": [],
   "source": []
  }
 ],
 "metadata": {
  "kernelspec": {
   "display_name": "Python 3",
   "language": "python",
   "name": "python3"
  },
  "language_info": {
   "codemirror_mode": {
    "name": "ipython",
    "version": 3
   },
   "file_extension": ".py",
   "mimetype": "text/x-python",
   "name": "python",
   "nbconvert_exporter": "python",
   "pygments_lexer": "ipython3",
   "version": "3.8.3"
  }
 },
 "nbformat": 4,
 "nbformat_minor": 4
}
